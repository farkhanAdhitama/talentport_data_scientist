{
 "cells": [
  {
   "cell_type": "markdown",
   "id": "3ef0f524",
   "metadata": {},
   "source": [
    "# Python Modelling"
   ]
  },
  {
   "cell_type": "markdown",
   "id": "454c5028",
   "metadata": {},
   "source": [
    "## EDA and Drop Fitur Leakage"
   ]
  },
  {
   "cell_type": "code",
   "execution_count": 1,
   "id": "edd8620b",
   "metadata": {},
   "outputs": [],
   "source": [
    "# Import library\n",
    "import pandas as pd\n",
    "import numpy as np\n",
    "import matplotlib.pyplot as plt\n",
    "import seaborn as sns\n",
    "from scipy import stats\n",
    "from sklearn.ensemble import IsolationForest\n",
    "from sklearn.preprocessing import StandardScaler\n",
    "from sklearn.cluster import DBSCAN\n",
    "import warnings\n",
    "\n",
    "warnings.filterwarnings(\"ignore\")"
   ]
  },
  {
   "cell_type": "code",
   "execution_count": 42,
   "id": "ded1a4c4",
   "metadata": {},
   "outputs": [],
   "source": [
    "from sklearn.model_selection import train_test_split\n",
    "from sklearn.preprocessing import StandardScaler\n",
    "from sklearn.linear_model import LogisticRegression\n",
    "from sklearn.ensemble import GradientBoostingClassifier\n",
    "from sklearn.metrics import roc_auc_score, classification_report, accuracy_score"
   ]
  },
  {
   "cell_type": "markdown",
   "id": "2604155d",
   "metadata": {},
   "source": [
    "### Load dataset"
   ]
  },
  {
   "cell_type": "code",
   "execution_count": 27,
   "id": "29463d97",
   "metadata": {},
   "outputs": [
    {
     "data": {
      "text/html": [
       "<div>\n",
       "<style scoped>\n",
       "    .dataframe tbody tr th:only-of-type {\n",
       "        vertical-align: middle;\n",
       "    }\n",
       "\n",
       "    .dataframe tbody tr th {\n",
       "        vertical-align: top;\n",
       "    }\n",
       "\n",
       "    .dataframe thead th {\n",
       "        text-align: right;\n",
       "    }\n",
       "</style>\n",
       "<table border=\"1\" class=\"dataframe\">\n",
       "  <thead>\n",
       "    <tr style=\"text-align: right;\">\n",
       "      <th></th>\n",
       "      <th>application_id</th>\n",
       "      <th>age</th>\n",
       "      <th>monthly_income</th>\n",
       "      <th>loan_amount</th>\n",
       "      <th>previous_defaults</th>\n",
       "      <th>credit_score</th>\n",
       "      <th>default</th>\n",
       "      <th>leak_col_good</th>\n",
       "      <th>leak_col_subtle</th>\n",
       "    </tr>\n",
       "  </thead>\n",
       "  <tbody>\n",
       "    <tr>\n",
       "      <th>0</th>\n",
       "      <td>501000</td>\n",
       "      <td>41</td>\n",
       "      <td>13995609</td>\n",
       "      <td>5982664</td>\n",
       "      <td>0</td>\n",
       "      <td>624</td>\n",
       "      <td>0</td>\n",
       "      <td>0</td>\n",
       "      <td>-0.040</td>\n",
       "    </tr>\n",
       "    <tr>\n",
       "      <th>1</th>\n",
       "      <td>501001</td>\n",
       "      <td>58</td>\n",
       "      <td>13683833</td>\n",
       "      <td>3711198</td>\n",
       "      <td>0</td>\n",
       "      <td>809</td>\n",
       "      <td>0</td>\n",
       "      <td>0</td>\n",
       "      <td>0.001</td>\n",
       "    </tr>\n",
       "    <tr>\n",
       "      <th>2</th>\n",
       "      <td>501002</td>\n",
       "      <td>33</td>\n",
       "      <td>9417391</td>\n",
       "      <td>7172332</td>\n",
       "      <td>0</td>\n",
       "      <td>647</td>\n",
       "      <td>0</td>\n",
       "      <td>0</td>\n",
       "      <td>0.077</td>\n",
       "    </tr>\n",
       "    <tr>\n",
       "      <th>3</th>\n",
       "      <td>501003</td>\n",
       "      <td>45</td>\n",
       "      <td>6861811</td>\n",
       "      <td>8661056</td>\n",
       "      <td>0</td>\n",
       "      <td>450</td>\n",
       "      <td>0</td>\n",
       "      <td>0</td>\n",
       "      <td>0.038</td>\n",
       "    </tr>\n",
       "    <tr>\n",
       "      <th>4</th>\n",
       "      <td>501004</td>\n",
       "      <td>22</td>\n",
       "      <td>5640742</td>\n",
       "      <td>4520669</td>\n",
       "      <td>1</td>\n",
       "      <td>816</td>\n",
       "      <td>0</td>\n",
       "      <td>0</td>\n",
       "      <td>0.020</td>\n",
       "    </tr>\n",
       "  </tbody>\n",
       "</table>\n",
       "</div>"
      ],
      "text/plain": [
       "   application_id  age  monthly_income  loan_amount  previous_defaults  \\\n",
       "0          501000   41        13995609      5982664                  0   \n",
       "1          501001   58        13683833      3711198                  0   \n",
       "2          501002   33         9417391      7172332                  0   \n",
       "3          501003   45         6861811      8661056                  0   \n",
       "4          501004   22         5640742      4520669                  1   \n",
       "\n",
       "   credit_score  default  leak_col_good  leak_col_subtle  \n",
       "0           624        0              0           -0.040  \n",
       "1           809        0              0            0.001  \n",
       "2           647        0              0            0.077  \n",
       "3           450        0              0            0.038  \n",
       "4           816        0              0            0.020  "
      ]
     },
     "execution_count": 27,
     "metadata": {},
     "output_type": "execute_result"
    }
   ],
   "source": [
    "df = pd.read_csv(\"../data/credit_scoring.csv\")\n",
    "df.head()"
   ]
  },
  {
   "cell_type": "markdown",
   "id": "e4d87fa7",
   "metadata": {},
   "source": [
    "### EDA"
   ]
  },
  {
   "cell_type": "code",
   "execution_count": 28,
   "id": "c8784907",
   "metadata": {},
   "outputs": [
    {
     "name": "stdout",
     "output_type": "stream",
     "text": [
      "<class 'pandas.core.frame.DataFrame'>\n",
      "RangeIndex: 6000 entries, 0 to 5999\n",
      "Data columns (total 9 columns):\n",
      " #   Column             Non-Null Count  Dtype  \n",
      "---  ------             --------------  -----  \n",
      " 0   application_id     6000 non-null   int64  \n",
      " 1   age                6000 non-null   int64  \n",
      " 2   monthly_income     6000 non-null   int64  \n",
      " 3   loan_amount        6000 non-null   int64  \n",
      " 4   previous_defaults  6000 non-null   int64  \n",
      " 5   credit_score       6000 non-null   int64  \n",
      " 6   default            6000 non-null   int64  \n",
      " 7   leak_col_good      6000 non-null   int64  \n",
      " 8   leak_col_subtle    6000 non-null   float64\n",
      "dtypes: float64(1), int64(8)\n",
      "memory usage: 422.0 KB\n"
     ]
    }
   ],
   "source": [
    "# Dataset info\n",
    "df.info()"
   ]
  },
  {
   "cell_type": "code",
   "execution_count": 29,
   "id": "4a51ad54",
   "metadata": {},
   "outputs": [
    {
     "data": {
      "text/html": [
       "<div>\n",
       "<style scoped>\n",
       "    .dataframe tbody tr th:only-of-type {\n",
       "        vertical-align: middle;\n",
       "    }\n",
       "\n",
       "    .dataframe tbody tr th {\n",
       "        vertical-align: top;\n",
       "    }\n",
       "\n",
       "    .dataframe thead th {\n",
       "        text-align: right;\n",
       "    }\n",
       "</style>\n",
       "<table border=\"1\" class=\"dataframe\">\n",
       "  <thead>\n",
       "    <tr style=\"text-align: right;\">\n",
       "      <th></th>\n",
       "      <th>application_id</th>\n",
       "      <th>age</th>\n",
       "      <th>monthly_income</th>\n",
       "      <th>loan_amount</th>\n",
       "      <th>previous_defaults</th>\n",
       "      <th>credit_score</th>\n",
       "      <th>default</th>\n",
       "      <th>leak_col_good</th>\n",
       "      <th>leak_col_subtle</th>\n",
       "    </tr>\n",
       "  </thead>\n",
       "  <tbody>\n",
       "    <tr>\n",
       "      <th>count</th>\n",
       "      <td>6000.000000</td>\n",
       "      <td>6000.000000</td>\n",
       "      <td>6.000000e+03</td>\n",
       "      <td>6.000000e+03</td>\n",
       "      <td>6000.000000</td>\n",
       "      <td>6000.000000</td>\n",
       "      <td>6000.000000</td>\n",
       "      <td>6000.000000</td>\n",
       "      <td>6000.000000</td>\n",
       "    </tr>\n",
       "    <tr>\n",
       "      <th>mean</th>\n",
       "      <td>503999.500000</td>\n",
       "      <td>40.321500</td>\n",
       "      <td>1.140386e+07</td>\n",
       "      <td>8.001122e+06</td>\n",
       "      <td>0.243667</td>\n",
       "      <td>575.979833</td>\n",
       "      <td>0.012167</td>\n",
       "      <td>0.012167</td>\n",
       "      <td>0.011945</td>\n",
       "    </tr>\n",
       "    <tr>\n",
       "      <th>std</th>\n",
       "      <td>1732.195139</td>\n",
       "      <td>11.300697</td>\n",
       "      <td>4.912598e+06</td>\n",
       "      <td>4.071786e+06</td>\n",
       "      <td>0.484767</td>\n",
       "      <td>158.328931</td>\n",
       "      <td>0.109639</td>\n",
       "      <td>0.109639</td>\n",
       "      <td>0.113947</td>\n",
       "    </tr>\n",
       "    <tr>\n",
       "      <th>min</th>\n",
       "      <td>501000.000000</td>\n",
       "      <td>21.000000</td>\n",
       "      <td>3.000310e+06</td>\n",
       "      <td>1.000794e+06</td>\n",
       "      <td>0.000000</td>\n",
       "      <td>300.000000</td>\n",
       "      <td>0.000000</td>\n",
       "      <td>0.000000</td>\n",
       "      <td>-0.119000</td>\n",
       "    </tr>\n",
       "    <tr>\n",
       "      <th>25%</th>\n",
       "      <td>502499.750000</td>\n",
       "      <td>31.000000</td>\n",
       "      <td>7.163379e+06</td>\n",
       "      <td>4.440939e+06</td>\n",
       "      <td>0.000000</td>\n",
       "      <td>438.750000</td>\n",
       "      <td>0.000000</td>\n",
       "      <td>0.000000</td>\n",
       "      <td>-0.020000</td>\n",
       "    </tr>\n",
       "    <tr>\n",
       "      <th>50%</th>\n",
       "      <td>503999.500000</td>\n",
       "      <td>41.000000</td>\n",
       "      <td>1.129945e+07</td>\n",
       "      <td>7.982304e+06</td>\n",
       "      <td>0.000000</td>\n",
       "      <td>577.500000</td>\n",
       "      <td>0.000000</td>\n",
       "      <td>0.000000</td>\n",
       "      <td>0.000000</td>\n",
       "    </tr>\n",
       "    <tr>\n",
       "      <th>75%</th>\n",
       "      <td>505499.250000</td>\n",
       "      <td>50.000000</td>\n",
       "      <td>1.573705e+07</td>\n",
       "      <td>1.153144e+07</td>\n",
       "      <td>0.000000</td>\n",
       "      <td>713.000000</td>\n",
       "      <td>0.000000</td>\n",
       "      <td>0.000000</td>\n",
       "      <td>0.021000</td>\n",
       "    </tr>\n",
       "    <tr>\n",
       "      <th>max</th>\n",
       "      <td>506999.000000</td>\n",
       "      <td>59.000000</td>\n",
       "      <td>1.998622e+07</td>\n",
       "      <td>1.499858e+07</td>\n",
       "      <td>3.000000</td>\n",
       "      <td>849.000000</td>\n",
       "      <td>1.000000</td>\n",
       "      <td>1.000000</td>\n",
       "      <td>1.092000</td>\n",
       "    </tr>\n",
       "  </tbody>\n",
       "</table>\n",
       "</div>"
      ],
      "text/plain": [
       "       application_id          age  monthly_income   loan_amount  \\\n",
       "count     6000.000000  6000.000000    6.000000e+03  6.000000e+03   \n",
       "mean    503999.500000    40.321500    1.140386e+07  8.001122e+06   \n",
       "std       1732.195139    11.300697    4.912598e+06  4.071786e+06   \n",
       "min     501000.000000    21.000000    3.000310e+06  1.000794e+06   \n",
       "25%     502499.750000    31.000000    7.163379e+06  4.440939e+06   \n",
       "50%     503999.500000    41.000000    1.129945e+07  7.982304e+06   \n",
       "75%     505499.250000    50.000000    1.573705e+07  1.153144e+07   \n",
       "max     506999.000000    59.000000    1.998622e+07  1.499858e+07   \n",
       "\n",
       "       previous_defaults  credit_score      default  leak_col_good  \\\n",
       "count        6000.000000   6000.000000  6000.000000    6000.000000   \n",
       "mean            0.243667    575.979833     0.012167       0.012167   \n",
       "std             0.484767    158.328931     0.109639       0.109639   \n",
       "min             0.000000    300.000000     0.000000       0.000000   \n",
       "25%             0.000000    438.750000     0.000000       0.000000   \n",
       "50%             0.000000    577.500000     0.000000       0.000000   \n",
       "75%             0.000000    713.000000     0.000000       0.000000   \n",
       "max             3.000000    849.000000     1.000000       1.000000   \n",
       "\n",
       "       leak_col_subtle  \n",
       "count      6000.000000  \n",
       "mean          0.011945  \n",
       "std           0.113947  \n",
       "min          -0.119000  \n",
       "25%          -0.020000  \n",
       "50%           0.000000  \n",
       "75%           0.021000  \n",
       "max           1.092000  "
      ]
     },
     "execution_count": 29,
     "metadata": {},
     "output_type": "execute_result"
    }
   ],
   "source": [
    "# Statistik data\n",
    "df.describe()"
   ]
  },
  {
   "cell_type": "code",
   "execution_count": 30,
   "id": "6b923272",
   "metadata": {},
   "outputs": [
    {
     "data": {
      "text/plain": [
       "(6000, 9)"
      ]
     },
     "execution_count": 30,
     "metadata": {},
     "output_type": "execute_result"
    }
   ],
   "source": [
    "# Dataset shape\n",
    "df.shape"
   ]
  },
  {
   "cell_type": "code",
   "execution_count": 31,
   "id": "da849745",
   "metadata": {},
   "outputs": [
    {
     "data": {
      "text/plain": [
       "application_id       0\n",
       "age                  0\n",
       "monthly_income       0\n",
       "loan_amount          0\n",
       "previous_defaults    0\n",
       "credit_score         0\n",
       "default              0\n",
       "leak_col_good        0\n",
       "leak_col_subtle      0\n",
       "dtype: int64"
      ]
     },
     "execution_count": 31,
     "metadata": {},
     "output_type": "execute_result"
    }
   ],
   "source": [
    "# Cek missing values\n",
    "df.isna().sum()"
   ]
  },
  {
   "cell_type": "code",
   "execution_count": 32,
   "id": "fd8ef5b7",
   "metadata": {},
   "outputs": [
    {
     "name": "stdout",
     "output_type": "stream",
     "text": [
      "Jumlah data duplikat :  0\n"
     ]
    }
   ],
   "source": [
    "# Cek data duplikat\n",
    "print(\"Jumlah data duplikat : \", df.duplicated().sum())"
   ]
  },
  {
   "cell_type": "code",
   "execution_count": 33,
   "id": "91d1ce2d",
   "metadata": {},
   "outputs": [],
   "source": [
    "# Drop data leakage\n",
    "leakage_cols = [\"leak_col_good\", \"leak_col_subtle\"]\n",
    "df_new = df.drop(columns=leakage_cols)"
   ]
  },
  {
   "cell_type": "code",
   "execution_count": 34,
   "id": "00e594e9",
   "metadata": {},
   "outputs": [
    {
     "data": {
      "text/html": [
       "<div>\n",
       "<style scoped>\n",
       "    .dataframe tbody tr th:only-of-type {\n",
       "        vertical-align: middle;\n",
       "    }\n",
       "\n",
       "    .dataframe tbody tr th {\n",
       "        vertical-align: top;\n",
       "    }\n",
       "\n",
       "    .dataframe thead th {\n",
       "        text-align: right;\n",
       "    }\n",
       "</style>\n",
       "<table border=\"1\" class=\"dataframe\">\n",
       "  <thead>\n",
       "    <tr style=\"text-align: right;\">\n",
       "      <th></th>\n",
       "      <th>application_id</th>\n",
       "      <th>age</th>\n",
       "      <th>monthly_income</th>\n",
       "      <th>loan_amount</th>\n",
       "      <th>previous_defaults</th>\n",
       "      <th>credit_score</th>\n",
       "      <th>default</th>\n",
       "    </tr>\n",
       "  </thead>\n",
       "  <tbody>\n",
       "    <tr>\n",
       "      <th>0</th>\n",
       "      <td>501000</td>\n",
       "      <td>41</td>\n",
       "      <td>13995609</td>\n",
       "      <td>5982664</td>\n",
       "      <td>0</td>\n",
       "      <td>624</td>\n",
       "      <td>0</td>\n",
       "    </tr>\n",
       "    <tr>\n",
       "      <th>1</th>\n",
       "      <td>501001</td>\n",
       "      <td>58</td>\n",
       "      <td>13683833</td>\n",
       "      <td>3711198</td>\n",
       "      <td>0</td>\n",
       "      <td>809</td>\n",
       "      <td>0</td>\n",
       "    </tr>\n",
       "    <tr>\n",
       "      <th>2</th>\n",
       "      <td>501002</td>\n",
       "      <td>33</td>\n",
       "      <td>9417391</td>\n",
       "      <td>7172332</td>\n",
       "      <td>0</td>\n",
       "      <td>647</td>\n",
       "      <td>0</td>\n",
       "    </tr>\n",
       "    <tr>\n",
       "      <th>3</th>\n",
       "      <td>501003</td>\n",
       "      <td>45</td>\n",
       "      <td>6861811</td>\n",
       "      <td>8661056</td>\n",
       "      <td>0</td>\n",
       "      <td>450</td>\n",
       "      <td>0</td>\n",
       "    </tr>\n",
       "    <tr>\n",
       "      <th>4</th>\n",
       "      <td>501004</td>\n",
       "      <td>22</td>\n",
       "      <td>5640742</td>\n",
       "      <td>4520669</td>\n",
       "      <td>1</td>\n",
       "      <td>816</td>\n",
       "      <td>0</td>\n",
       "    </tr>\n",
       "  </tbody>\n",
       "</table>\n",
       "</div>"
      ],
      "text/plain": [
       "   application_id  age  monthly_income  loan_amount  previous_defaults  \\\n",
       "0          501000   41        13995609      5982664                  0   \n",
       "1          501001   58        13683833      3711198                  0   \n",
       "2          501002   33         9417391      7172332                  0   \n",
       "3          501003   45         6861811      8661056                  0   \n",
       "4          501004   22         5640742      4520669                  1   \n",
       "\n",
       "   credit_score  default  \n",
       "0           624        0  \n",
       "1           809        0  \n",
       "2           647        0  \n",
       "3           450        0  \n",
       "4           816        0  "
      ]
     },
     "execution_count": 34,
     "metadata": {},
     "output_type": "execute_result"
    }
   ],
   "source": [
    "df_new.head()"
   ]
  },
  {
   "cell_type": "markdown",
   "id": "de1d6440",
   "metadata": {},
   "source": [
    "## Baseline Logistic Reg -> GradientBoosting "
   ]
  },
  {
   "cell_type": "code",
   "execution_count": 37,
   "id": "82cd4833",
   "metadata": {},
   "outputs": [],
   "source": [
    "# Split dataset\n",
    "X = df_new.drop(columns=[\"application_id\", \"default\"])\n",
    "y = df_new[\"default\"]\n",
    "X_train, X_test, y_train, y_test = train_test_split(\n",
    "    X,\n",
    "    y,\n",
    "    test_size=0.2,  # 20% data untuk test\n",
    "    stratify=y,  \n",
    "    random_state=42\n",
    ")"
   ]
  },
  {
   "cell_type": "code",
   "execution_count": 38,
   "id": "682d01a5",
   "metadata": {},
   "outputs": [
    {
     "name": "stdout",
     "output_type": "stream",
     "text": [
      "Jumlah data pada data training: 4800\n",
      "Jumlah data pada data testing: 1200\n"
     ]
    }
   ],
   "source": [
    "print(\"Jumlah data pada data training:\", X_train.shape[0])\n",
    "print(\"Jumlah data pada data testing:\", X_test.shape[0])"
   ]
  },
  {
   "cell_type": "code",
   "execution_count": 40,
   "id": "cd7db56e",
   "metadata": {},
   "outputs": [
    {
     "data": {
      "text/html": [
       "<div>\n",
       "<style scoped>\n",
       "    .dataframe tbody tr th:only-of-type {\n",
       "        vertical-align: middle;\n",
       "    }\n",
       "\n",
       "    .dataframe tbody tr th {\n",
       "        vertical-align: top;\n",
       "    }\n",
       "\n",
       "    .dataframe thead th {\n",
       "        text-align: right;\n",
       "    }\n",
       "</style>\n",
       "<table border=\"1\" class=\"dataframe\">\n",
       "  <thead>\n",
       "    <tr style=\"text-align: right;\">\n",
       "      <th></th>\n",
       "      <th>age</th>\n",
       "      <th>monthly_income</th>\n",
       "      <th>loan_amount</th>\n",
       "      <th>previous_defaults</th>\n",
       "      <th>credit_score</th>\n",
       "    </tr>\n",
       "  </thead>\n",
       "  <tbody>\n",
       "    <tr>\n",
       "      <th>382</th>\n",
       "      <td>49</td>\n",
       "      <td>15929405</td>\n",
       "      <td>7257297</td>\n",
       "      <td>0</td>\n",
       "      <td>537</td>\n",
       "    </tr>\n",
       "    <tr>\n",
       "      <th>2603</th>\n",
       "      <td>50</td>\n",
       "      <td>13636274</td>\n",
       "      <td>6963137</td>\n",
       "      <td>0</td>\n",
       "      <td>610</td>\n",
       "    </tr>\n",
       "    <tr>\n",
       "      <th>65</th>\n",
       "      <td>48</td>\n",
       "      <td>3094579</td>\n",
       "      <td>1847424</td>\n",
       "      <td>0</td>\n",
       "      <td>356</td>\n",
       "    </tr>\n",
       "    <tr>\n",
       "      <th>3332</th>\n",
       "      <td>22</td>\n",
       "      <td>6156666</td>\n",
       "      <td>9324793</td>\n",
       "      <td>0</td>\n",
       "      <td>406</td>\n",
       "    </tr>\n",
       "    <tr>\n",
       "      <th>833</th>\n",
       "      <td>47</td>\n",
       "      <td>9886549</td>\n",
       "      <td>9609103</td>\n",
       "      <td>0</td>\n",
       "      <td>347</td>\n",
       "    </tr>\n",
       "  </tbody>\n",
       "</table>\n",
       "</div>"
      ],
      "text/plain": [
       "      age  monthly_income  loan_amount  previous_defaults  credit_score\n",
       "382    49        15929405      7257297                  0           537\n",
       "2603   50        13636274      6963137                  0           610\n",
       "65     48         3094579      1847424                  0           356\n",
       "3332   22         6156666      9324793                  0           406\n",
       "833    47         9886549      9609103                  0           347"
      ]
     },
     "execution_count": 40,
     "metadata": {},
     "output_type": "execute_result"
    }
   ],
   "source": [
    "# Data train\n",
    "X_train.head()"
   ]
  },
  {
   "cell_type": "code",
   "execution_count": 41,
   "id": "e67ab9db",
   "metadata": {},
   "outputs": [],
   "source": [
    "# Scaling dataset menggunakan standar scaler\n",
    "scaler = StandardScaler()\n",
    "X_train_scaled = scaler.fit_transform(X_train)\n",
    "X_test_scaled = scaler.transform(X_test)"
   ]
  },
  {
   "cell_type": "markdown",
   "id": "12e91a40",
   "metadata": {},
   "source": [
    "### Logistic Regression\n"
   ]
  },
  {
   "cell_type": "code",
   "execution_count": 44,
   "id": "0fe77570",
   "metadata": {},
   "outputs": [
    {
     "name": "stdout",
     "output_type": "stream",
     "text": [
      "Logistic Regression AUC: 0.7552180028129395\n",
      "Logistic Regression Accuracy: 0.9875\n"
     ]
    }
   ],
   "source": [
    "# Logistic Regression\n",
    "lr = LogisticRegression()\n",
    "lr.fit(X_train_scaled, y_train)\n",
    "lr_pred_proba = lr.predict_proba(X_test_scaled)[:, 1]\n",
    "lr_pred_label = lr.predict(X_test_scaled)\n",
    "\n",
    "# Evaluasi\n",
    "auc = roc_auc_score(y_test, lr_pred_proba)\n",
    "accuracy = accuracy_score(y_test, lr_pred_label)\n",
    "\n",
    "print(\"Logistic Regression AUC:\", auc)\n",
    "print(\"Logistic Regression Accuracy:\", accuracy)"
   ]
  },
  {
   "cell_type": "markdown",
   "id": "4d4e5d99",
   "metadata": {},
   "source": [
    "### Gradient Boosting"
   ]
  },
  {
   "cell_type": "code",
   "execution_count": 45,
   "id": "3c2296e9",
   "metadata": {},
   "outputs": [
    {
     "name": "stdout",
     "output_type": "stream",
     "text": [
      "Logistic Regression AUC: 0.6863009845288326\n",
      "Logistic Regression Accuracy: 0.9858333333333333\n"
     ]
    }
   ],
   "source": [
    "# Gradient Boosting\n",
    "gb = GradientBoostingClassifier()\n",
    "gb.fit(X_train_scaled, y_train)\n",
    "gb_pred_proba = gb.predict_proba(X_test_scaled)[:, 1]\n",
    "gb_pred_label = gb.predict(X_test_scaled)\n",
    "\n",
    "# Evaluasi\n",
    "auc = roc_auc_score(y_test, gb_pred_proba)\n",
    "accuracy = accuracy_score(y_test, gb_pred_label)\n",
    "\n",
    "print(\"Logistic Regression AUC:\", auc)\n",
    "print(\"Logistic Regression Accuracy:\", accuracy)"
   ]
  }
 ],
 "metadata": {
  "kernelspec": {
   "display_name": "mlops",
   "language": "python",
   "name": "python3"
  },
  "language_info": {
   "codemirror_mode": {
    "name": "ipython",
    "version": 3
   },
   "file_extension": ".py",
   "mimetype": "text/x-python",
   "name": "python",
   "nbconvert_exporter": "python",
   "pygments_lexer": "ipython3",
   "version": "3.12.7"
  }
 },
 "nbformat": 4,
 "nbformat_minor": 5
}
